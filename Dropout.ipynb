{
 "cells": [
  {
   "cell_type": "code",
   "execution_count": 2,
   "metadata": {
    "collapsed": false
   },
   "outputs": [],
   "source": [
    "#The organization of this class definition is inspired by some OOP-flavored code I found at\n",
    "#https://thenewphalls.wordpress.com/2014/02/19/understanding-object-oriented-programming-in-julia-part-1/\n",
    "\n",
    "type NeuralNet     #create by e.g. \"net = NeuralNet([42 100 100 1])\"\n",
    "                   # would one output node, 42 input nodes, and two hidden layers of 100 nodes each\n",
    "    \n",
    "    layers;        #an integer containing the number of hidden layers + 1\n",
    "    nodes;         #an array containing the size of the net as described above\n",
    "    weights;       #an array of matrices containing the weights from one layer of the net to the next\n",
    "    biases;        #an array of vectors containing the bias/threshold that influences a node's activation\n",
    "    \n",
    "    function NeuralNet(nodes)               #constructor\n",
    "        \n",
    "        this = new();                       #create object\n",
    "        this.nodes = nodes;                 #store node size information in the object\n",
    "        \n",
    "        this.layers = size(nodes)[2] - 1;   #figure out how many layers from the constructor's input\n",
    "        \n",
    "        this.weights = Array[];             #initialize\n",
    "        this.biases = Array[];\n",
    "        \n",
    "        for i = 1:this.layers\n",
    "            \n",
    "            push!(this.weights, 0.1*rand(nodes[i+1], nodes[i]));\n",
    "                                            #create weight matrices\n",
    "                                            #this will result in an array of matrices\n",
    "            push!(this.biases, 0.01*rand(nodes[i+1],1));\n",
    "                                            #create bias vectors (as columns)\n",
    "        end;\n",
    "        \n",
    "        return this;\n",
    "    end;\n",
    "end;\n",
    "\n",
    "function Activate(x)                    #this function will be applied to the weighted sum of the inputs\n",
    "                                        # before the value is passed on to the next layer\n",
    "    \n",
    "    #return max(0,x);                    #Rectified Linear Units aka ramp function\n",
    "    return 1 ./ (1 + exp(-x));           #use logistic function instead\n",
    "    \n",
    "end;\n",
    "\n",
    "function GradActivate(x)                #gradient of the activation function at x\n",
    "    \n",
    "    #return 1*(x.> 0);                    #returns a subgradient of ramp\n",
    "    f = Activate(x); return f.*(1-f);     #gradient of logistic function\n",
    "    \n",
    "end;\n",
    "\n",
    "function FeedForward(net, input; p = 0.5)\n",
    "    \n",
    "    x = input;\n",
    "\n",
    "    for i = 1:net.layers-1                                      #for every layer\n",
    "        \n",
    "        x = Activate(p*net.weights[i]*x .+ net.biases[i]);       #weighted sum and apply activation function\n",
    "        \n",
    "    end;\n",
    "    \n",
    "    x = Activate(net.weights[net.layers]*x .+ net.biases[net.layers])    #do not bump the output layer\n",
    "    \n",
    "    return x';\n",
    "\n",
    "end;\n",
    "\n",
    "function BackPropogate(net, input, label; p = 0.5)\n",
    "\n",
    "    alpha = 1.5/net.layers;\n",
    "    alpha_bias = alpha/10;\n",
    "    \n",
    "    #FEED FORWARD FIRST\n",
    "    \n",
    "    x = Array[];                           #x will contain the pre-activated values\n",
    "    \n",
    "    y = Array[input];                      #y will contain the activated values\n",
    "\n",
    "    for i = 1:net.layers-1                   #for every layer\n",
    "        \n",
    "        dropout = (rand(size(net.weights[i])[1]) .< p);\n",
    "        \n",
    "        push!(x, net.weights[i]*y[i] + net.biases[i]);     #weighted sum\n",
    "        \n",
    "        push!(y, dropout .* Activate(x[i]));        #activated value\n",
    "        \n",
    "    end;\n",
    "    \n",
    "    #don't dropout the outputs\n",
    "    \n",
    "    push!(x, net.weights[net.layers]*y[net.layers] + net.biases[net.layers]);     #weighted sum\n",
    "        \n",
    "    push!(y, Activate(x[net.layers]));        #activated value\n",
    "    \n",
    "    #NOW PERFORM GRADIENT DESCENT\n",
    "    \n",
    "    error = vec((label - y[net.layers+1]) .* GradActivate(x[net.layers]));    #for gradient descent\n",
    "    \n",
    "    net.weights[net.layers] += alpha * error * y[net.layers]';                #adjust the weights at top level\n",
    "    \n",
    "    net.biases[net.layers] += alpha_bias * error;                                  #biases too\n",
    "    \n",
    "    for i = net.layers-1:-1:1                         #reverse order\n",
    "        \n",
    "        error = vec((net.weights[i+1]' * error));     #percolate remaining error to next level\n",
    "        \n",
    "        error = error .* GradActivate(x[i])           #error propogates to next layer\n",
    "        \n",
    "        net.weights[i] += alpha * error * y[i]';      #adjust the weights at this level\n",
    "        \n",
    "        net.biases[i] += alpha_bias * error;               #biases too\n",
    "        \n",
    "    end;\n",
    "    \n",
    "    #no return value -- all corrections are made in the net since it is passed by reference\n",
    "    \n",
    "end;"
   ]
  },
  {
   "cell_type": "code",
   "execution_count": 3,
   "metadata": {
    "collapsed": true
   },
   "outputs": [],
   "source": [
    "function Normalize(y)\n",
    "    y = y .- minimum(y,1);\n",
    "    y = y ./ (maximum(y,1));\n",
    "end;\n",
    "\n",
    "function Train(net, U_train, U_test, y_train, y_test; ITS = 1000, p = 0.5)\n",
    "    y_train = Normalize(y_train);\n",
    "    y_test = Normalize(y_test);\n",
    "    U_train = Normalize(U_train);\n",
    "    U_test = Normalize(U_test);\n",
    "\n",
    "    n = size(U_train)[1];\n",
    "\n",
    "    rd = rand(1:n, ITS, 1);\n",
    "\n",
    "    for i = 1:ITS\n",
    "        r = rd[i];\n",
    "        BackPropogate(net, U_train[r, :]', y_train[r]; p = p)\n",
    "    end;\n",
    "\n",
    "    #train_cost = 0.5*norm(FeedForward(net, U_train'; p = p) - y_train)^2;\n",
    "    #test_cost = 0.5*norm(FeedForward(net, U_test'; p = p) - y_test)^2;\n",
    "    \n",
    "    train_correct = ones(1,n)*((FeedForward(net, U_train'; p = p) .> 0.5) .== 1*(y_train .> 0.5));\n",
    "    train_correct = 100*train_correct[1,1]/n;\n",
    "    test_correct = ones(1,size(U_test)[1])*((FeedForward(net, U_test'; p = p) .> 0.5) .== (y_test .> 0.5));\n",
    "    test_correct = 100*test_correct[1,1]/size(U_test)[1];\n",
    "\n",
    "    return (train_correct, test_correct);\n",
    "end;"
   ]
  },
  {
   "cell_type": "code",
   "execution_count": 4,
   "metadata": {
    "collapsed": false
   },
   "outputs": [],
   "source": [
    "net1 = NeuralNet([2 15 1]);"
   ]
  },
  {
   "cell_type": "code",
   "execution_count": 5,
   "metadata": {
    "collapsed": false
   },
   "outputs": [
    {
     "name": "stdout",
     "output_type": "stream",
     "text": [
      "% Correct = 50.0\n"
     ]
    }
   ],
   "source": [
    "#XOR TRAINING -- there is a lot of symmetry in this problem so it is difficult to train\n",
    "\n",
    "#y = [0.07; 1.0; 0.97; 0.92];        #labels -- perturbations are included to break symmetry\n",
    "\n",
    "y = [0.0; 1.0; 1.0; 0.0];          #true labels\n",
    "U = [0 0; 0 1; 1 0; 1 1];          #training data\n",
    "\n",
    "(train_correct, _) = Train(net1, U, U, y, y; ITS = 1000, p = 1.0)\n",
    "\n",
    "println(\"% Correct = \", train_correct);\n",
    "\n",
    "sleep(0.1);"
   ]
  },
  {
   "cell_type": "code",
   "execution_count": 82,
   "metadata": {
    "collapsed": false
   },
   "outputs": [
    {
     "name": "stdout",
     "output_type": "stream",
     "text": [
      "1420.0 iterations for n = 10 and p = 1.0\n",
      "1330.0 iterations for n = 10 and p = 0.95\n",
      "1430.0 iterations for n = 10 and p = 0.9\n",
      "1740.0 iterations for n = 10 and p = 0.85\n",
      "1700.0 iterations for n = 10 and p = 0.8\n",
      "2290.0 iterations for n = 10 and p = 0.75\n",
      "2200.0 iterations for n = 10 and p = 0.7\n",
      "2550.0 iterations for n = 10 and p = 0.65\n",
      "2810.0 iterations for n = 10 and p = 0.6\n",
      "3700.0 iterations for n = 10 and p = 0.55\n",
      "4660.0 iterations for n = 10 and p = 0.5\n",
      "1530.0 iterations for n = 9 and p = 1.0\n",
      "1330.0 iterations for n = 9 and p = 0.95\n",
      "1240.0 iterations for n = 9 and p = 0.9\n",
      "1630.0 iterations for n = 9 and p = 0.85\n",
      "1860.0 iterations for n = 9 and p = 0.8\n",
      "2170.0 iterations for n = 9 and p = 0.75\n",
      "2380.0 iterations for n = 9 and p = 0.7\n",
      "2660.0 iterations for n = 9 and p = 0.65\n",
      "4310.0 iterations for n = 9 and p = 0.6\n",
      "4770.0 iterations for n = 9 and p = 0.55\n",
      "5230.0 iterations for n = 9 and p = 0.5\n",
      "1520.0 iterations for n = 8 and p = 1.0\n",
      "1380.0 iterations for n = 8 and p = 0.95\n",
      "1320.0 iterations for n = 8 and p = 0.9\n",
      "1870.0 iterations for n = 8 and p = 0.85\n",
      "1800.0 iterations for n = 8 and p = 0.8\n",
      "2320.0 iterations for n = 8 and p = 0.75\n",
      "2730.0 iterations for n = 8 and p = 0.7\n",
      "3690.0 iterations for n = 8 and p = 0.65\n",
      "3910.0 iterations for n = 8 and p = 0.6\n",
      "6390.0 iterations for n = 8 and p = 0.55\n",
      "6380.0 iterations for n = 8 and p = 0.5\n",
      "1490.0 iterations for n = 7 and p = 1.0\n",
      "1380.0 iterations for n = 7 and p = 0.95\n",
      "1510.0 iterations for n = 7 and p = 0.9\n",
      "2560.0 iterations for n = 7 and p = 0.85\n",
      "2100.0 iterations for n = 7 and p = 0.8\n",
      "2140.0 iterations for n = 7 and p = 0.75\n",
      "3180.0 iterations for n = 7 and p = 0.7\n",
      "3700.0 iterations for n = 7 and p = 0.65\n",
      "4820.0 iterations for n = 7 and p = 0.6\n",
      "7330.0 iterations for n = 7 and p = 0.55\n",
      "6750.0 iterations for n = 7 and p = 0.5\n",
      "1590.0 iterations for n = 6 and p = 1.0\n",
      "1350.0 iterations for n = 6 and p = 0.95\n",
      "1580.0 iterations for n = 6 and p = 0.9\n",
      "2630.0 iterations for n = 6 and p = 0.85\n",
      "1910.0 iterations for n = 6 and p = 0.8\n",
      "3790.0 iterations for n = 6 and p = 0.75\n",
      "5500.0 iterations for n = 6 and p = 0.7\n",
      "5630.0 iterations for n = 6 and p = 0.65\n",
      "5540.0 iterations for n = 6 and p = 0.6\n",
      "6640.0 iterations for n = 6 and p = 0.55\n",
      "9000.0 iterations for n = 6 and p = 0.5\n",
      "1370.0 iterations for n = 5 and p = 1.0\n",
      "1580.0 iterations for n = 5 and p = 0.95\n",
      "1420.0 iterations for n = 5 and p = 0.9\n",
      "2090.0 iterations for n = 5 and p = 0.85\n",
      "3060.0 iterations for n = 5 and p = 0.8\n",
      "5160.0 iterations for n = 5 and p = 0.75\n",
      "6710.0 iterations for n = 5 and p = 0.7\n",
      "6430.0 iterations for n = 5 and p = 0.65\n",
      "6350.0 iterations for n = 5 and p = 0.6\n",
      "8960.0 iterations for n = 5 and p = 0.55\n",
      "8260.0 iterations for n = 5 and p = 0.5\n"
     ]
    }
   ],
   "source": [
    "#This experiment is going to test how many training iterations it takes in order to train an XOR net\n",
    "# with the hopes of determining something about how the number of hidden nodes and dropout rate contribute\n",
    "\n",
    "y = [0.0; 1.0; 1.0; 0.0];          #true labels\n",
    "U = [0 0; 0 1; 1 0; 1 1];          #training data\n",
    "\n",
    "U = [U U U U];                       #a simple way of reducing the dropout in the input layer -- duplicate inputs\n",
    "\n",
    "MAX_TRIES = 100;                   #going to cap these trials at 1e4 training its\n",
    "ITS_PER = 100;\n",
    "\n",
    "AVERAGE_OVER = 10;                 #average the results each over 10 trials\n",
    "\n",
    "data = Array[];\n",
    "\n",
    "MIN_NODES = 5;                     #minimum architecture to try\n",
    "\n",
    "i = 0;\n",
    "for n = 10:-1:MIN_NODES\n",
    "    i += 1;\n",
    "    \n",
    "    push!(data,[n 0]);\n",
    "    for p = 1.0:-0.05:0.5\n",
    "        \n",
    "        total = 0;\n",
    "        \n",
    "        for k = 1:AVERAGE_OVER\n",
    "            attempts = 0;\n",
    "    \n",
    "            netT = NeuralNet([8 n 1]);\n",
    "\n",
    "            train_correct = 0;\n",
    "    \n",
    "            while (train_correct < 100 && attempts < MAX_TRIES)\n",
    "                attempts += 1;\n",
    "                (train_correct, _) = Train(netT, U, U, y, y; ITS = ITS_PER, p = p);\n",
    "            end\n",
    "            \n",
    "            total += attempts*ITS_PER/AVERAGE_OVER;\n",
    "        end\n",
    "\n",
    "        println(total, \" iterations for n = \", n, \" and p = \", p);\n",
    "        \n",
    "        data[i] = [data[i]; p total];\n",
    "    end\n",
    "end\n",
    "\n",
    "sleep(0.1);"
   ]
  },
  {
   "cell_type": "code",
   "execution_count": 90,
   "metadata": {
    "collapsed": false
   },
   "outputs": [
    {
     "data": {
      "image/png": "[encoded data removed]",
      "text/plain": [
       "PyPlot.Figure(PyObject <matplotlib.figure.Figure object at 0x7fa7f322d748>)"
      ]
     },
     "metadata": {},
     "output_type": "display_data"
    }
   ],
   "source": [
    "using PyPlot\n",
    "\n",
    "figure();\n",
    "xlabel(\"Rate at which nodes persist (1-Dropout rate)\");\n",
    "ylabel(\"Number of training iterations required\");\n",
    "title(\"XOR Training iterations required with dropout\");\n",
    "\n",
    "i = 1;\n",
    "for i = 1:11-MIN_NODES;\n",
    "    n = round(Int64,(data[i])[1,1])\n",
    "    plot((data[i])[2:end,1], (data[i])[2:end,2], label= string(\"n = \", n));\n",
    "end\n",
    "\n",
    "legend(loc=\"top right\");\n",
    "\n",
    "axis([0.5; 1.0; 0; 1e4]);\n",
    "\n",
    "show();\n",
    "\n",
    "sleep(0.1);"
   ]
  },
  {
   "cell_type": "code",
   "execution_count": 74,
   "metadata": {
    "collapsed": true
   },
   "outputs": [],
   "source": [
    "net4 = NeuralNet([1 15 15 1]);"
   ]
  },
  {
   "cell_type": "code",
   "execution_count": 75,
   "metadata": {
    "collapsed": false
   },
   "outputs": [],
   "source": [
    "#SIN TRAINING\n",
    "\n",
    "U_train = (0:0.01:1.5)'';\n",
    "y_train = sin(U_train);\n",
    "\n",
    "U_test = (0.05:0.01:1.55)'';\n",
    "y_test = sin(U_test);\n",
    "\n",
    "n = size(U_train)[1];"
   ]
  },
  {
   "cell_type": "code",
   "execution_count": 78,
   "metadata": {
    "collapsed": false
   },
   "outputs": [
    {
     "name": "stdout",
     "output_type": "stream",
     "text": [
      "Train Cost: 1.449505325171569\n",
      "Test Cost: 1.2395126070029128\n"
     ]
    }
   ],
   "source": [
    "ITS = 1000000;\n",
    "p = 0.5;\n",
    "\n",
    "rd = rand(1:n, ITS, 1);\n",
    "\n",
    "for i = 1:ITS\n",
    "    r = rd[i];\n",
    "    BackPropogate(net4, U_train[r, :]', y_train[r]; p = p)\n",
    "end;\n",
    "\n",
    "train_cost = 0.5*norm(FeedForward(net4, U_train'; p = p) - y_train)^2;\n",
    "test_cost = 0.5*norm(FeedForward(net4, U_test'; p = p) - y_test)^2;\n",
    "    \n",
    "println(\"Train Cost: \", train_cost);\n",
    "println(\"Test Cost: \", test_cost);"
   ]
  },
  {
   "cell_type": "code",
   "execution_count": 104,
   "metadata": {
    "collapsed": false
   },
   "outputs": [
    {
     "data": {
      "text/plain": [
       "151x1 Array{Float64,2}:\n",
       "  0.0535829 \n",
       "  0.0479565 \n",
       "  0.0424967 \n",
       "  0.0372081 \n",
       "  0.032095  \n",
       "  0.0271619 \n",
       "  0.0224127 \n",
       "  0.0178515 \n",
       "  0.013482  \n",
       "  0.00930759\n",
       "  0.0053316 \n",
       "  0.00155696\n",
       " -0.00201369\n",
       "  ⋮         \n",
       " -0.0389893 \n",
       " -0.0391978 \n",
       " -0.0393374 \n",
       " -0.0394071 \n",
       " -0.0394057 \n",
       " -0.0393324 \n",
       " -0.039186  \n",
       " -0.0389657 \n",
       " -0.0386706 \n",
       " -0.0382997 \n",
       " -0.0378524 \n",
       " -0.0373277 "
      ]
     },
     "execution_count": 104,
     "metadata": {},
     "output_type": "execute_result"
    }
   ],
   "source": [
    "FeedForward(net4, U_test'; p = p) - y_test"
   ]
  },
  {
   "cell_type": "code",
   "execution_count": null,
   "metadata": {
    "collapsed": false
   },
   "outputs": [],
   "source": [
    "(train_correct, test_correct) = Train(net4, U_train, U_test, y_train, y_test; ITS = 1000, p = 1.0)\n",
    "\n",
    "println(\"% Correct (Train) = \", train_correct);\n",
    "println(\"% Correct (Test)  = \", test_correct);\n",
    "\n",
    "sleep(0.1);"
   ]
  },
  {
   "cell_type": "code",
   "execution_count": null,
   "metadata": {
    "collapsed": false
   },
   "outputs": [],
   "source": [
    "net2 = NeuralNet([3 100 1]);"
   ]
  },
  {
   "cell_type": "code",
   "execution_count": null,
   "metadata": {
    "collapsed": false
   },
   "outputs": [],
   "source": [
    "#College Admission Training  -- this data is hard to classify with high purity\n",
    "#because there are only 3 features and lots of variance\n",
    "\n",
    "(raw_data,headings) = readdlm(\"binary.csv\",','; header = true)\n",
    "y = raw_data[:, 1]\n",
    "U = raw_data[:, 2:4]           #this data set has three features\n",
    "\n",
    "n = size(U)[1];\n",
    "m = div(n,10);\n",
    "\n",
    "U_train = U[1:n-m , :];\n",
    "U_test = U[n-m+1:n, :];\n",
    "\n",
    "y_train = y[1:n-m, :];\n",
    "y_test = y[n-m+1:n, :];\n",
    "\n",
    "(train_correct, test_correct) = Train(net2, U_train, U_test, y_train, y_test; ITS = 100000, p = 1.0)\n",
    "\n",
    "println(\"% Correct (Train) = \", train_correct);\n",
    "println(\"% Correct (Test)  = \", test_correct);\n",
    "\n",
    "sleep(0.1);"
   ]
  },
  {
   "cell_type": "code",
   "execution_count": null,
   "metadata": {
    "collapsed": false
   },
   "outputs": [],
   "source": [
    "using MNIST\n",
    "\n",
    "(U_test, y_test) = testdata();"
   ]
  },
  {
   "cell_type": "code",
   "execution_count": null,
   "metadata": {
    "collapsed": true
   },
   "outputs": [],
   "source": [
    "net3 = NeuralNet([784 400 10]);"
   ]
  },
  {
   "cell_type": "code",
   "execution_count": null,
   "metadata": {
    "collapsed": false
   },
   "outputs": [],
   "source": [
    "n = 60000;\n",
    "ITS = 100000;\n",
    "p = 1.0;\n",
    "\n",
    "indices = eye(10);\n",
    "\n",
    "for i = 1:ITS\n",
    "    r = rand(1:n);\n",
    "    j = Int(trainlabel(r)+1);\n",
    "    BackPropogate(net3, trainfeatures(r)/256, indices[:,j]; p = p);\n",
    "end;\n",
    "\n",
    "train_correct = 0;\n",
    "for i = 1:100\n",
    "    train_correct += indmax(FeedForward(net3, trainfeatures(i)/256; p = p)) == trainlabel(i)+1;\n",
    "end;\n",
    "train_correct = train_correct[1,1];\n",
    "\n",
    "test_correct = 0;\n",
    "for i = 1:100\n",
    "    test_correct += indmax(FeedForward(net3, testfeatures(i)/256; p = p)) == testlabel(i)+1;\n",
    "end;\n",
    "\n",
    "test_correct = test_correct[1,1];\n",
    "\n",
    "println(\"% Correct (Train) = \", train_correct);\n",
    "println(\"% Correct (Test)  = \", test_correct);"
   ]
  },
  {
   "cell_type": "code",
   "execution_count": null,
   "metadata": {
    "collapsed": false
   },
   "outputs": [],
   "source": []
  }
 ],
 "metadata": {
  "kernelspec": {
   "display_name": "Julia 0.4.0",
   "language": "julia",
   "name": "julia-0.4"
  },
  "language_info": {
   "file_extension": ".jl",
   "mimetype": "application/julia",
   "name": "julia",
   "version": "0.4.1"
  }
 },
 "nbformat": 4,
 "nbformat_minor": 0
}
